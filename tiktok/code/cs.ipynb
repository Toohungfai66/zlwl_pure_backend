{
 "cells": [
  {
   "cell_type": "code",
   "execution_count": 6,
   "id": "647f4b87",
   "metadata": {},
   "outputs": [
    {
     "name": "stdout",
     "output_type": "stream",
     "text": [
      "日期 2025-05-25 23:59:59 的时间戳（秒级）：1748188799\n"
     ]
    }
   ],
   "source": [
    "from datetime import datetime\n",
    "\n",
    "# 定义目标日期字符串\n",
    "date_str = \"2025-05-25 23:59:59\"\n",
    "\n",
    "# 将日期字符串转换为datetime对象\n",
    "dt = datetime.strptime(date_str, \"%Y-%m-%d %H:%M:%S\")\n",
    "\n",
    "# 获取时间戳（秒级）\n",
    "timestamp = int(dt.timestamp())\n",
    "\n",
    "# 输出结果\n",
    "print(f\"日期 {date_str} 的时间戳（秒级）：{timestamp}\")"
   ]
  }
 ],
 "metadata": {
  "kernelspec": {
   "display_name": "Python 3",
   "language": "python",
   "name": "python3"
  },
  "language_info": {
   "codemirror_mode": {
    "name": "ipython",
    "version": 3
   },
   "file_extension": ".py",
   "mimetype": "text/x-python",
   "name": "python",
   "nbconvert_exporter": "python",
   "pygments_lexer": "ipython3",
   "version": "3.11.9"
  }
 },
 "nbformat": 4,
 "nbformat_minor": 5
}
