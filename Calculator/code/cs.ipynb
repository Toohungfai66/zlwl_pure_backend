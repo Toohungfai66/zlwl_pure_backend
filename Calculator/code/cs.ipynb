{
 "cells": [
  {
   "cell_type": "code",
   "execution_count": null,
   "id": "d77cca87",
   "metadata": {},
   "outputs": [],
   "source": [
    "import pandas as pd\n",
    "import numpy as np\n",
    "\n",
    "def compare_dataframes(df1, df2, key_columns):\n",
    "    \"\"\"\n",
    "    对比两个DataFrame，计算所有非键列的增长比\n",
    "    参数:\n",
    "        df1: 时段1的DataFrame\n",
    "        df2: 时段2的DataFrame\n",
    "        key_columns: 用于匹配的键列列表\n",
    "    \n",
    "    返回:\n",
    "        包含增长比结果的合并DataFrame\n",
    "    \"\"\"\n",
    "    # 合并数据\n",
    "    merged = pd.merge(df1, df2, on=key_columns, suffixes=('_时段1', '_时段2'), how='inner')\n",
    "    \n",
    "    # 找出所有数值型列（自动识别）\n",
    "    numeric_cols = df1.select_dtypes(include=np.number).columns.tolist()\n",
    "    numeric_cols = [col for col in numeric_cols if col not in key_columns]\n",
    "    \n",
    "    # 计算数值列的增长比\n",
    "    for col in numeric_cols:\n",
    "        col1 = f'{col}_时段1'\n",
    "        col2 = f'{col}_时段2'\n",
    "        \n",
    "        # 计算增长比\n",
    "        merged[f'{col}_增长比'] = np.where(\n",
    "            merged[col1] != 0,\n",
    "            (merged[col2] - merged[col1]) / merged[col1],\n",
    "            np.nan\n",
    "        )\n",
    "        \n",
    "        # 格式化\n",
    "        merged[f'{col}_增长比'] = merged[f'{col}_增长比'].apply(\n",
    "            lambda x: f\"{x:.2%}\" if pd.notnull(x) else 'N/A')\n",
    "    \n",
    "    # 对于非数值列，可以添加其他对比逻辑\n",
    "    # 例如文本列的对比、分类列的对比等\n",
    "    \n",
    "    return merged"
   ]
  },
  {
   "cell_type": "code",
   "execution_count": 3,
   "id": "921c37b6",
   "metadata": {},
   "outputs": [],
   "source": [
    "# 使用示例\n",
    "df1 = pd.read_excel('C:\\Project\\zlwl_pure_backend\\Calculator\\status\\产品表现父ASIN（2025-07-16~2025-07-16，全部广告）-804284494327939072.xlsx')\n",
    "df2 = pd.read_excel('C:\\Project\\zlwl_pure_backend\\Calculator\\status\\产品表现父ASIN（2025-07-17~2025-07-17，全部广告）-804283898024435712.xlsx')\n",
    "key_columns = ['父ASIN', '店铺']\n",
    "\n",
    "result_df = compare_dataframes(df1, df2, key_columns)\n",
    "result_df.to_excel('全列增长对比结果.xlsx', index=False)"
   ]
  }
 ],
 "metadata": {
  "kernelspec": {
   "display_name": "Python 3",
   "language": "python",
   "name": "python3"
  },
  "language_info": {
   "codemirror_mode": {
    "name": "ipython",
    "version": 3
   },
   "file_extension": ".py",
   "mimetype": "text/x-python",
   "name": "python",
   "nbconvert_exporter": "python",
   "pygments_lexer": "ipython3",
   "version": "3.11.9"
  }
 },
 "nbformat": 4,
 "nbformat_minor": 5
}
