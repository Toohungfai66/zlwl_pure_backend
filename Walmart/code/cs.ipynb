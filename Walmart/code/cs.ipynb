{
 "cells": [
  {
   "cell_type": "code",
   "execution_count": 5,
   "id": "b1c0ce75",
   "metadata": {},
   "outputs": [],
   "source": [
    "from datetime import datetime, timedelta\n",
    "def get_weekly_dates():\n",
    "    ok = []\n",
    "    # 获取当前日期\n",
    "    today = datetime.now()\n",
    "    # 计算当周周一的日期\n",
    "    monday = today - timedelta(days=today.weekday())\n",
    "    # 计算当周周日的日期\n",
    "    sunday = monday + timedelta(days=6)\n",
    "\n",
    "    ok.append(monday.strftime('%Y.%m.%d') + \"-\" + sunday.strftime('%Y.%m.%d'))\n",
    "\n",
    "    # 计算未来十一周的周一和周日的日期\n",
    "    for i in range(1, 7):\n",
    "        next_monday = monday + timedelta(weeks=i)\n",
    "        next_sunday = next_monday + timedelta(days=6)\n",
    "        ok.append(next_monday.strftime('%Y.%m.%d') + \"-\" + next_sunday.strftime('%Y.%m.%d'))\n",
    "    return ok"
   ]
  },
  {
   "cell_type": "code",
   "execution_count": 6,
   "id": "f68d7c38",
   "metadata": {},
   "outputs": [
    {
     "data": {
      "text/plain": [
       "['2025.06.16-2025.06.22',\n",
       " '2025.06.23-2025.06.29',\n",
       " '2025.06.30-2025.07.06',\n",
       " '2025.07.07-2025.07.13',\n",
       " '2025.07.14-2025.07.20',\n",
       " '2025.07.21-2025.07.27',\n",
       " '2025.07.28-2025.08.03']"
      ]
     },
     "execution_count": 6,
     "metadata": {},
     "output_type": "execute_result"
    }
   ],
   "source": [
    "get_weekly_dates()"
   ]
  },
  {
   "cell_type": "code",
   "execution_count": 7,
   "id": "cc6b5756",
   "metadata": {},
   "outputs": [],
   "source": [
    "from dateutil.relativedelta import relativedelta\n",
    "def get_one_year_ago(date_str):\n",
    "    # 将输入的日期字符串转换为日期对象\n",
    "    date_obj = datetime.strptime(date_str, '%Y.%m.%d')\n",
    "    # 计算一年前的日期\n",
    "    one_year_ago = date_obj - relativedelta(years=1)\n",
    "    # 将日期对象转换为字符串\n",
    "    one_year_ago_str = one_year_ago.strftime('%Y.%m.%d')\n",
    "    return one_year_ago_str\n"
   ]
  },
  {
   "cell_type": "code",
   "execution_count": 8,
   "id": "2702f715",
   "metadata": {},
   "outputs": [
    {
     "name": "stdout",
     "output_type": "stream",
     "text": [
      "2024-06-16 2024-06-22\n",
      "2024-06-23 2024-06-29\n",
      "2024-06-30 2024-07-06\n",
      "2024-07-07 2024-07-13\n",
      "2024-07-14 2024-07-20\n",
      "2024-07-21 2024-07-27\n",
      "2024-07-28 2024-08-03\n"
     ]
    }
   ],
   "source": [
    "for _date in get_weekly_dates():\n",
    "    print(get_one_year_ago(str(_date).split(\"-\")[0]).replace(\".\",\"-\"), get_one_year_ago(str(_date).split(\"-\")[1]).replace(\".\",\"-\"))\n"
   ]
  },
  {
   "cell_type": "code",
   "execution_count": 9,
   "id": "fae1e9f5",
   "metadata": {},
   "outputs": [
    {
     "data": {
      "text/plain": [
       "(datetime.datetime(2025, 8, 4, 17, 3, 35, 206504),\n",
       " datetime.datetime(2025, 8, 10, 17, 3, 35, 206504))"
      ]
     },
     "execution_count": 9,
     "metadata": {},
     "output_type": "execute_result"
    }
   ],
   "source": [
    "monday = datetime.now() - timedelta(days=datetime.now().weekday())\n",
    "next_monday = monday + timedelta(weeks=7)\n",
    "next_sunday = next_monday + timedelta(days=6)\n",
    "next_monday,next_sunday"
   ]
  }
 ],
 "metadata": {
  "kernelspec": {
   "display_name": "Python 3",
   "language": "python",
   "name": "python3"
  },
  "language_info": {
   "codemirror_mode": {
    "name": "ipython",
    "version": 3
   },
   "file_extension": ".py",
   "mimetype": "text/x-python",
   "name": "python",
   "nbconvert_exporter": "python",
   "pygments_lexer": "ipython3",
   "version": "3.11.9"
  }
 },
 "nbformat": 4,
 "nbformat_minor": 5
}
